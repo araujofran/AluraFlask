{
  "nbformat": 4,
  "nbformat_minor": 0,
  "metadata": {
    "colab": {
      "provenance": [],
      "authorship_tag": "ABX9TyOC3gPauKCkP19Tl66myChi",
      "include_colab_link": true
    },
    "kernelspec": {
      "name": "python3",
      "display_name": "Python 3"
    },
    "language_info": {
      "name": "python"
    }
  },
  "cells": [
    {
      "cell_type": "markdown",
      "metadata": {
        "id": "view-in-github",
        "colab_type": "text"
      },
      "source": [
        "<a href=\"https://colab.research.google.com/github/araujofran/Alura_Trilha_Inteligencia_Artifical/blob/main/TrilhaDIO.ipynb\" target=\"_parent\"><img src=\"https://colab.research.google.com/assets/colab-badge.svg\" alt=\"Open In Colab\"/></a>"
      ]
    },
    {
      "cell_type": "code",
      "execution_count": null,
      "metadata": {
        "id": "x1L6pXsuFq0M"
      },
      "outputs": [],
      "source": [
        "#Criando_Sistema_Bancário\n",
        "import datetime\n",
        "\n",
        "class Banco:\n",
        "    def __init__(self):\n",
        "        self.saldo = 0.0\n",
        "        self.saques_diarios = 0\n",
        "        self.limite_saques = 3\n",
        "        self.limite_valor_saque = 500.0\n",
        "        self.extrato = []\n",
        "        self.data_ultimo_saque = None\n",
        "\n",
        "    def formatar_valor(self, valor):\n",
        "        return f\"R$ {valor:,.2f}\".replace(',', 'X').replace('.', ',').replace('X', '.')\n",
        "\n",
        "    def depositar(self, valor):\n",
        "        if valor > 0:\n",
        "            self.saldo += valor\n",
        "            self.extrato.append(f\"Depósito: {self.formatar_valor(valor)}\")\n",
        "        else:\n",
        "            print(\"Valor de depósito inválido.\")\n",
        "\n",
        "    def sacar(self, valor):\n",
        "        hoje = datetime.date.today()\n",
        "        if self.data_ultimo_saque != hoje:\n",
        "            self.saques_diarios = 0\n",
        "            self.data_ultimo_saque = hoje\n",
        "\n",
        "        if valor <= 0:\n",
        "            print(\"Não é possível sacar valores negativos ou zero.\")\n",
        "        elif valor > self.saldo:\n",
        "            print(\"Sua conta não tem saldo suficiente.\")\n",
        "        elif self.saques_diarios >= self.limite_saques:\n",
        "            print(\"Limite de saques diários atingido.\")\n",
        "        elif valor > self.limite_valor_saque:\n",
        "            print(\"O valor máximo para saque é de R$ 500,00.\")\n",
        "        else:\n",
        "            self.saldo -= valor\n",
        "            self.saques_diarios += 1\n",
        "            self.extrato.append(f\"Saque: {self.formatar_valor(valor)}\")\n",
        "\n",
        "    def mostrar_extrato(self):\n",
        "        print(\"\\nExtrato:\")\n",
        "        for operacao in self.extrato:\n",
        "            print(operacao)\n",
        "        print(f\"Saldo atual: {self.formatar_valor(self.saldo)}\")\n",
        "        print()\n",
        "\n",
        "def menu():\n",
        "    banco = Banco()\n",
        "    while True:\n",
        "        print(\"Escolha uma operação:\")\n",
        "        print(\"[d] Depositar\")\n",
        "        print(\"[s] Sacar\")\n",
        "        print(\"[e] Extrato\")\n",
        "        print(\"[q] Sair\")\n",
        "        escolha = input().lower()\n",
        "\n",
        "        if escolha == 'd':\n",
        "            valor = float(input(\"Digite o valor para depósito: \"))\n",
        "            banco.depositar(valor)\n",
        "        elif escolha == 's':\n",
        "            valor = float(input(\"Digite o valor para saque: \"))\n",
        "            banco.sacar(valor)\n",
        "        elif escolha == 'e':\n",
        "            banco.mostrar_extrato()\n",
        "        elif escolha == 'q':\n",
        "            print(\"Saindo do sistema...\")\n",
        "            break\n",
        "        else:\n",
        "            print(\"Escolha inválida. Tente novamente.\")\n",
        "\n",
        "if __name__ == \"__main__\":\n",
        "    menu()\n"
      ]
    }
  ]
}