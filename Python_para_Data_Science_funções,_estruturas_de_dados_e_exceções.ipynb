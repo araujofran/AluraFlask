{
  "nbformat": 4,
  "nbformat_minor": 0,
  "metadata": {
    "colab": {
      "provenance": [],
      "authorship_tag": "ABX9TyN3Ilgfqn8vKpgO/+IN98Sd",
      "include_colab_link": true
    },
    "kernelspec": {
      "name": "python3",
      "display_name": "Python 3"
    },
    "language_info": {
      "name": "python"
    }
  },
  "cells": [
    {
      "cell_type": "markdown",
      "metadata": {
        "id": "view-in-github",
        "colab_type": "text"
      },
      "source": [
        "<a href=\"https://colab.research.google.com/github/araujofran/Alura_Trilha_Inteligencia_Artifical/blob/main/Python_para_Data_Science_fun%C3%A7%C3%B5es%2C_estruturas_de_dados_e_exce%C3%A7%C3%B5es.ipynb\" target=\"_parent\"><img src=\"https://colab.research.google.com/assets/colab-badge.svg\" alt=\"Open In Colab\"/></a>"
      ]
    },
    {
      "cell_type": "markdown",
      "source": [
        "# Python para Data Science: trabalhando com funções, estruturas de dados e exceções"
      ],
      "metadata": {
        "id": "JcF3wwyE-wXt"
      }
    },
    {
      "cell_type": "code",
      "source": [
        "from random import choice\n",
        "contadorJogador = 0\n",
        "contadorComputador = 0\n",
        "resposta = \"S\"\n",
        "while resposta == \"S\":\n",
        "  print(\"Vamos jogar!!!\")\n",
        "  computador = choice([0,1,2,3,4,5,6,7,8,9,10])\n",
        "\n",
        "  print(\"Jogo do Adivinha o numero que estou pensando!!!\")\n",
        "\n",
        "  jogador = (int(input(\" Quero ver se você ganha de mim!!! Adivinhe o numero que estou pensando entre 0  e 10! Diga: ....\")))\n",
        "  print(\"-------------------------------------------------------------------------------------------------------------------\")\n",
        "  print(f'O computador escolheu {computador}')\n",
        "  print(f'O jogador escolheu {jogador}')\n",
        "  print(\"-------------------------------------------------------------------------------------------------------------------\")\n",
        "  if jogador == computador:\n",
        "    print(f'Você acertou!!! Parabéns')\n",
        "    contadorJogador += 1\n",
        "    print(\"-------------------------------------------------------------------------------------------------------------------\")\n",
        "    print(f'O computador acertou {contadorComputador} vezes')\n",
        "    print(f'O jogador acertou {contadorJogador} vezes')\n",
        "    print(\"-------------------------------------------------------------------------------------------------------------------\")\n",
        "  elif jogador != computador:\n",
        "    print(f'Você errou')\n",
        "    contadorComputador += 1\n",
        "    print(\"-------------------------------------------------------------------------------------------------------------------\")\n",
        "    print(f'O computador acertou {contadorComputador} vezes')\n",
        "    print(f'O jogador acertou {contadorJogador} vezes')\n",
        "    print(\"-------------------------------------------------------------------------------------------------------------------\")\n",
        "  print(\"---------------------------------------------------------------------------------------------------------------------\")\n",
        "  resposta = input(\"Deseja continuar? (S/N): \").upper()\n",
        "  if resposta =='S':\n",
        "    print(\"Você escolheu continuar.\")\n",
        "    print(\"---------------------------------------------------------------------------------------------------------------------\")\n",
        "  elif resposta == 'N':\n",
        "    print(\"Você escolheu sair.\")\n",
        "    print(\"Obrigado por jogar!\")\n",
        "    print(\"-------------------------------------------------------------------------------------------------------------------\")\n",
        "    print(\"Resultado geral foi:\")\n",
        "    print(f'O computador acertou {contadorComputador} vezes')\n",
        "    print(f'O jogador acertou {contadorJogador} vezes')\n",
        "    print(\"-------------------------------------------------------------------------------------------------------------------\")\n",
        "    if contadorComputador > contadorJogador:\n",
        "      if contadorComputador > 2:\n",
        "        print(\"O computador venceu de lavada!!!!\")\n",
        "      else:\n",
        "        print(\"O computador venceu por pouco!!!!\")\n",
        "    elif contadorComputador < contadorJogador:\n",
        "      if contadorJogador > 2:\n",
        "        print(\"O jogador venceu grandão!!!!\")\n",
        "      else:\n",
        "        print('O jogador venceu por pouco!!!!')\n",
        "    elif contadorComputador == contadorJogador:\n",
        "      print(\"Empate\")\n",
        "      break\n",
        "  else:\n",
        "    print(\"Resposta inválida. Por favor, digite 'S' para sim ou 'N' para não.\")\n",
        "\n",
        "\n"
      ],
      "metadata": {
        "id": "GA94e6o6QWaB"
      },
      "execution_count": null,
      "outputs": []
    }
  ]
}