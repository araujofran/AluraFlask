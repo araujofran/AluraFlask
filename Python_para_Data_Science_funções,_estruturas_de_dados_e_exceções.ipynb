{
  "nbformat": 4,
  "nbformat_minor": 0,
  "metadata": {
    "colab": {
      "provenance": [],
      "authorship_tag": "ABX9TyNu7jVofmsdXj9G7HDWgHiR",
      "include_colab_link": true
    },
    "kernelspec": {
      "name": "python3",
      "display_name": "Python 3"
    },
    "language_info": {
      "name": "python"
    }
  },
  "cells": [
    {
      "cell_type": "markdown",
      "metadata": {
        "id": "view-in-github",
        "colab_type": "text"
      },
      "source": [
        "<a href=\"https://colab.research.google.com/github/araujofran/Alura_Trilha_Inteligencia_Artifical/blob/main/Python_para_Data_Science_fun%C3%A7%C3%B5es%2C_estruturas_de_dados_e_exce%C3%A7%C3%B5es.ipynb\" target=\"_parent\"><img src=\"https://colab.research.google.com/assets/colab-badge.svg\" alt=\"Open In Colab\"/></a>"
      ]
    },
    {
      "cell_type": "markdown",
      "source": [
        "# Python para Data Science: trabalhando com funções, estruturas de dados e exceções"
      ],
      "metadata": {
        "id": "JcF3wwyE-wXt"
      }
    },
    {
      "cell_type": "code",
      "source": [],
      "metadata": {
        "id": "soS8B3f2-vT3"
      },
      "execution_count": null,
      "outputs": []
    },
    {
      "cell_type": "code",
      "execution_count": null,
      "metadata": {
        "id": "jt3hC_3x-tEL"
      },
      "outputs": [],
      "source": []
    }
  ]
}