{
  "nbformat": 4,
  "nbformat_minor": 0,
  "metadata": {
    "colab": {
      "provenance": [],
      "authorship_tag": "ABX9TyNEculVcJYSKACn0vEjFkuU",
      "include_colab_link": true
    },
    "kernelspec": {
      "name": "python3",
      "display_name": "Python 3"
    },
    "language_info": {
      "name": "python"
    }
  },
  "cells": [
    {
      "cell_type": "markdown",
      "metadata": {
        "id": "view-in-github",
        "colab_type": "text"
      },
      "source": [
        "<a href=\"https://colab.research.google.com/github/araujofran/Alura_Trilha_Inteligencia_Artifical/blob/main/2%C2%BAModulo_curso_Trilha_IA.ipynb\" target=\"_parent\"><img src=\"https://colab.research.google.com/assets/colab-badge.svg\" alt=\"Open In Colab\"/></a>"
      ]
    },
    {
      "cell_type": "markdown",
      "source": [],
      "metadata": {
        "id": "ceplEckWxjXE"
      }
    },
    {
      "cell_type": "markdown",
      "source": [
        "# Trabalhando com Sets no Python"
      ],
      "metadata": {
        "id": "p5L2SLi-xlI7"
      }
    },
    {
      "cell_type": "code",
      "execution_count": null,
      "metadata": {
        "id": "4ihGPUblxeUx"
      },
      "outputs": [],
      "source": []
    }
  ]
}