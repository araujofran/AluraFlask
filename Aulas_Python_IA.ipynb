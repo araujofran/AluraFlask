{
  "nbformat": 4,
  "nbformat_minor": 0,
  "metadata": {
    "colab": {
      "provenance": [],
      "authorship_tag": "ABX9TyMycThGFp3njW34Rfqc2dN6",
      "include_colab_link": true
    },
    "kernelspec": {
      "name": "python3",
      "display_name": "Python 3"
    },
    "language_info": {
      "name": "python"
    }
  },
  "cells": [
    {
      "cell_type": "markdown",
      "metadata": {
        "id": "view-in-github",
        "colab_type": "text"
      },
      "source": [
        "<a href=\"https://colab.research.google.com/github/araujofran/Alura_Trilha_Inteligencia_Artifical/blob/main/Aulas_Python_IA.ipynb\" target=\"_parent\"><img src=\"https://colab.research.google.com/assets/colab-badge.svg\" alt=\"Open In Colab\"/></a>"
      ]
    },
    {
      "cell_type": "code",
      "execution_count": null,
      "metadata": {
        "colab": {
          "base_uri": "https://localhost:8080/"
        },
        "id": "8wlR44zKqReV",
        "outputId": "204d6da5-3a83-4d93-83fe-b80b3118972b"
      },
      "outputs": [
        {
          "output_type": "stream",
          "name": "stdout",
          "text": [
            "10\n"
          ]
        }
      ],
      "source": [
        "idade = 10\n",
        "print (idade)"
      ]
    },
    {
      "cell_type": "markdown",
      "source": [
        "#Retomando conceitos básicos\n",
        "\n"
      ],
      "metadata": {
        "id": "9NrBT4YuqcXp"
      }
    },
    {
      "cell_type": "code",
      "source": [
        "nome = \"Francisco\"\n",
        "\n",
        "idade = 25\n",
        "\n",
        "print (\" O estudante \" + nome  + \" tem \" +  str(idade) + \" anos...\")"
      ],
      "metadata": {
        "colab": {
          "base_uri": "https://localhost:8080/"
        },
        "id": "I8-C_YQCqs5C",
        "outputId": "7f1519e0-6421-4153-cdf5-d6312fda0fb3"
      },
      "execution_count": null,
      "outputs": [
        {
          "output_type": "stream",
          "name": "stdout",
          "text": [
            " O estudande Francisco tem 25 anos...\n"
          ]
        }
      ]
    },
    {
      "cell_type": "code",
      "source": [
        "nota1= int(input(\"Digite a nota 1: \"))\n",
        "nota2= int(input(\"Digite a nota 2: \"))\n",
        "nota3= int(input(\"Digite a nota 3: \"))\n",
        "\n",
        "media = (nota1 + nota2 + nota3) / 3\n",
        "\n",
        "print (\"A média é: \" + str(media))\n",
        "#\n",
        "\n"
      ],
      "metadata": {
        "colab": {
          "base_uri": "https://localhost:8080/"
        },
        "id": "KAGlE9ImJOGm",
        "outputId": "e9687adf-4921-4758-bfed-57ce21fe3f52"
      },
      "execution_count": 3,
      "outputs": [
        {
          "output_type": "stream",
          "name": "stdout",
          "text": [
            "Digite a nota 1: 25\n",
            "Digite a nota 2: 35\n",
            "Digite a nota 3: 48\n",
            "A média é: 36.0\n"
          ]
        }
      ]
    },
    {
      "cell_type": "code",
      "source": [],
      "metadata": {
        "id": "m8wG9zSQJ7xF"
      },
      "execution_count": null,
      "outputs": []
    },
    {
      "cell_type": "code",
      "source": [
        "nome = \"Ana Maria\"\n",
        "idade = 17\n",
        "print(f\"O nome da aluna é {nome} e sua idade é {idade} anos.\")"
      ],
      "metadata": {
        "colab": {
          "base_uri": "https://localhost:8080/"
        },
        "id": "bKMAOqQxKYTZ",
        "outputId": "d3d2d09f-d8d5-45e4-9c0b-f5e2e57fddfc"
      },
      "execution_count": 4,
      "outputs": [
        {
          "output_type": "stream",
          "name": "stdout",
          "text": [
            "O nome da aluna é Ana Maria e sua idade é 17 anos.\n"
          ]
        }
      ]
    },
    {
      "cell_type": "code",
      "source": [
        "nome_aluno = 'Fabricio Daniel'\n",
        "\n",
        "print('Nome do aluno: %s' %(nome_aluno))"
      ],
      "metadata": {
        "colab": {
          "base_uri": "https://localhost:8080/"
        },
        "id": "5M-NkMPKKfNC",
        "outputId": "0f9c72cb-ebf1-4427-d845-fb798cfedc03"
      },
      "execution_count": 5,
      "outputs": [
        {
          "output_type": "stream",
          "name": "stdout",
          "text": [
            "Nome do aluno: Fabricio Daniel\n"
          ]
        }
      ]
    },
    {
      "cell_type": "markdown",
      "source": [
        "**Nessa parte há exercicios sugestionados pela Professora, vou deixar registrado aqui meu progresso**\n",
        "\n"
      ],
      "metadata": {
        "id": "crIbK3SrLUkT"
      }
    },
    {
      "cell_type": "markdown",
      "source": [
        "# **Coleta e amostragem de dados**\n",
        "1.Crie um programa que solicite à pessoa usuária digitar seu nome, e imprima “Olá, [nome]!”.\n",
        "2.Crie um programa que solicite à pessoa usuária digitar seu nome e idade, e imprima “Olá, [nome], você tem [idade] anos.”.\n",
        "3.Crie um programa que solicite à pessoa usuária digitar seu nome, idade e altura em metros, e imprima “Olá, [nome], você tem [idade] anos e mede [altura] metros!”."
      ],
      "metadata": {
        "id": "u6fifkvDLoik"
      }
    },
    {
      "cell_type": "code",
      "source": [
        "# prompt: nome= str(input\"Qual é o seu nome?\")\n",
        "\n",
        "nome = str(input(\"Qual é o seu nome? \"))\n",
        "print(f\"Olá, {nome}!\")"
      ],
      "metadata": {
        "colab": {
          "base_uri": "https://localhost:8080/"
        },
        "id": "tc5c68EzLl5N",
        "outputId": "cd1f2ff1-b979-494b-8d26-3a5c1a9d778f"
      },
      "execution_count": 7,
      "outputs": [
        {
          "output_type": "stream",
          "name": "stdout",
          "text": [
            "Qual é o seu nome? Augusto\n",
            "Olá, Augusto!\n"
          ]
        }
      ]
    },
    {
      "cell_type": "code",
      "source": [
        "idade = int(input(\"Qual é a sua idade?\"))\n",
        "\n",
        "print(f\"A idade do {nome} é de {idade} anos... \")"
      ],
      "metadata": {
        "colab": {
          "base_uri": "https://localhost:8080/"
        },
        "id": "e8cZyCaqLyJg",
        "outputId": "b6aee617-a14d-4533-fc8d-db97ecaf1a43"
      },
      "execution_count": 13,
      "outputs": [
        {
          "output_type": "stream",
          "name": "stdout",
          "text": [
            "Qual é a sua idade?45\n",
            "A idade do Augusto é de 45 anos... \n"
          ]
        }
      ]
    },
    {
      "cell_type": "code",
      "source": [
        "''' Criar um programa que solicite à pessoa usuária digitar seu nome, idade e altura em metros, e imprima “Olá, [nome], você tem [idade] anos e mede [altura] metros!”.'''\n",
        "\n",
        "nome = str(input(\"Qual é o seu nome? \"))\n",
        "idade = int(input(\"Qual é a sua idade? \"))\n",
        "altura = float(input(\"Qual é a sua altura? \"))\n",
        "\n",
        "print(f\"Olá, {nome}, você tem {idade} anos e mede {altura} metros!\")"
      ],
      "metadata": {
        "colab": {
          "base_uri": "https://localhost:8080/"
        },
        "id": "fIvpTdHiNceH",
        "outputId": "11d30aa5-7056-42ed-b95c-70be798afe59"
      },
      "execution_count": 14,
      "outputs": [
        {
          "output_type": "stream",
          "name": "stdout",
          "text": [
            "Qual é o seu nome? Fran\n",
            "Qual é a sua idade? 45\n",
            "Qual é a sua altura? 1.69\n",
            "Olá, Fran, você tem 45 anos e mede 1.69 metros!\n"
          ]
        }
      ]
    },
    {
      "cell_type": "markdown",
      "source": [
        "# Calculadora com operadores\n",
        "1. Crie um programa que solicite dois valores numéricos à pessoa usuária e imprima a soma dos dois valores.\n",
        "2. Crie um programa que solicite três valores numéricos à pessoa usuária e imprima a soma dos três valores.\n",
        "3. Crie um programa que solicite dois valores numéricos à pessoa usuária e imprima a subtração do primeiro pelo o segundo valor.\n",
        "4. Crie um programa que solicite dois valores numéricos à pessoa usuária e imprima a multiplicação dos dois valores.\n",
        "5. Crie um programa que solicite dois valores numéricos, um numerador e um denominador, e realize a divisão entre os dois valores. Deixe claro que o valor do denominador não pode ser 0.\n",
        "6. Crie um programa que solicite dois valores numéricos, um operador e uma potência, e realize a exponenciação entre esses dois valores.\n",
        "7. Crie um programa que solicite dois valores numéricos, um numerador e um denominador e realize a divisão inteira entre os dois valores. Deixe claro que o valor do denominador não pode ser 0.\n",
        "8. Crie um programa que solicite dois valores numéricos, um numerador e um denominador, e retorne o resto da divisão entre os dois valores. Deixe claro que o valor do denominador não pode ser 0.\n",
        "9. Crie um código que solicita 3 notas de um estudante e imprima a média das notas.\n",
        "10. Crie um código que calcule e imprima a média ponderada dos números 5, 12, 20 e 15 com pesos respectivamente iguais a 1, 2, 3 e 4."
      ],
      "metadata": {
        "id": "-3hjzpXBNzwJ"
      }
    },
    {
      "cell_type": "code",
      "source": [
        "'''Crie um programa que solicite dois valores numéricos à pessoa usuária e imprima a soma dos dois valores.'''\n",
        "\n",
        "primeiro_valor = int (input(\"Digite o primeiro valor: \"))\n",
        "segundo_valor = int(input(\"Digite o segundo valor:\"))\n",
        "\n",
        "soma = primeiro_valor + segundo_valor\n",
        "\n",
        "print(f\"A soma do numero {primeiro_valor}  com o numero {segundo_valor} é igual a {soma}\")\n"
      ],
      "metadata": {
        "colab": {
          "base_uri": "https://localhost:8080/"
        },
        "id": "7bSozaWLOH6F",
        "outputId": "c9f0888d-da9a-49f0-e907-4d3d2beaf2d4"
      },
      "execution_count": 16,
      "outputs": [
        {
          "output_type": "stream",
          "name": "stdout",
          "text": [
            "Digite o primeiro valor: 25\n",
            "Digite o segundo valor:98\n",
            "A soma do numero 25  com o numeor 98 é igual a 123\n"
          ]
        }
      ]
    },
    {
      "cell_type": "code",
      "source": [
        "'''Crie um programa que solicite três valores numéricos à pessoa usuária e imprima a soma dos três valores.'''\n",
        "\n",
        "primeiro_valor = float(input(\"Digite o primeiro valor: \").replace(\",\", \".\").replace(\";\", \".\"))\n",
        "segundo_valor = float(input(\"Digite o segundo valor: \").replace(\",\", \".\").replace(\";\", \".\"))\n",
        "terceiro_valor = float(input(\"Digite o terceiro valor: \").replace(\",\", \".\").replace(\";\", \".\"))\n",
        "\n",
        "soma = primeiro_valor + segundo_valor + terceiro_valor\n",
        "\n",
        "print(f\"A soma do numero {primeiro_valor}  com o numero {segundo_valor} com o numero {terceiro_valor} é igual a {soma}\")\n"
      ],
      "metadata": {
        "colab": {
          "base_uri": "https://localhost:8080/"
        },
        "id": "r-osXhu6PBWR",
        "outputId": "4c8af541-a69b-4f44-d5b8-56a20477655a"
      },
      "execution_count": 21,
      "outputs": [
        {
          "output_type": "stream",
          "name": "stdout",
          "text": [
            "Digite o primeiro valor: 2;9988\n",
            "Digite o segundo valor: 1.4578\n",
            "Digite o terceiro valor: 99988;999\n",
            "A soma do numero 2.9988  com o numero 1.4578 com o numero 99988.999 é igual a 99993.4556\n"
          ]
        }
      ]
    },
    {
      "cell_type": "code",
      "source": [
        "#Divisão\n",
        "\n",
        "'''Crie um programa que solicite dois valores numéricos, um numerador e um denominador,\n",
        "e realize a divisao entre os dois valores. Deixe claro que o valor do denominador não pode ser zero.'''\n",
        "\n",
        "numerador = float(input(\"Digite o numerador: \").replace(\",\", \".\").replace(\";\", \".\"))\n",
        "denominador = float(input(\"Digite o denominador (diferente de zero): \").replace(\",\", \".\").replace(\";\", \".\"))\n",
        "\n",
        "if denominador == 0:\n",
        "  print(\"Erro: o denominador não pode ser zero.\")\n",
        "else:\n",
        "  divisao = numerador / denominador\n",
        "  print(f\"A divisão de {numerador} por {denominador} é igual a {divisao}\")"
      ],
      "metadata": {
        "colab": {
          "base_uri": "https://localhost:8080/"
        },
        "id": "n8HRAgSUQsE4",
        "outputId": "93b79604-02d0-4300-d36a-db6957de4fa7"
      },
      "execution_count": 24,
      "outputs": [
        {
          "output_type": "stream",
          "name": "stdout",
          "text": [
            "Digite o numerador: 126545\n",
            "Digite o denominador (diferente de zero): 9\n",
            "A divisão de 126545.0 por 9.0 é igual a 14060.555555555555\n"
          ]
        }
      ]
    },
    {
      "cell_type": "code",
      "source": [
        "'''Crie um programa que solicite dois valores numéricos, um numerador e um denominador,\n",
        "e realize o resto da divisão entre os dois valores (operação módulo).\n",
        "Deixe claro que o valor do denominador não pode ser 0.'''\n",
        "\n",
        "numerador = int(input(\"Digite o numerador: \"))\n",
        "denominador = int(input(\"Digite o denominador (diferente de zero): \"))\n",
        "\n",
        "if denominador == 0:\n",
        "  print(\"Erro: o denominador não pode ser zero.\")\n",
        "else:\n",
        "  resto = numerador % denominador\n",
        "  print(f\"O resto da divisão de {numerador} por {denominador} é igual a {resto}\")"
      ],
      "metadata": {
        "colab": {
          "base_uri": "https://localhost:8080/"
        },
        "id": "K3kVxE0HRLE1",
        "outputId": "b73b0804-d69b-451a-8e51-fd787bb2c6b7"
      },
      "execution_count": 25,
      "outputs": [
        {
          "output_type": "stream",
          "name": "stdout",
          "text": [
            "Digite o numerador: 5\n",
            "Digite o denominador (diferente de zero): 9\n",
            "O resto da divisão de 5 por 9 é igual a 5\n"
          ]
        }
      ]
    },
    {
      "cell_type": "code",
      "source": [
        "'''Crie um programa que solicite dois valores numéricos, um operador e uma potência,\n",
        "e realize a exponenciação entre esses dois valores.'''\n",
        "\n",
        "base = float(input(\"Digite a base: \").replace(\",\", \".\").replace(\";\", \".\"))\n",
        "expoente = float(input(\"Digite o expoente: \").replace(\",\", \".\").replace(\";\", \".\"))\n",
        "\n",
        "# Check if the result will be too large to calculate\n",
        "if base > 10e300 or expoente > 10e300:\n",
        "  print(\"Erro: o resultado é muito grande para ser calculado.\")\n",
        "else:\n",
        "  resultado = base ** expoente\n",
        "  print(f\"{base} elevado a {expoente} é igual a {resultado}\")"
      ],
      "metadata": {
        "colab": {
          "base_uri": "https://localhost:8080/"
        },
        "id": "Agfre8BvRjZB",
        "outputId": "f3f9015e-a90b-43a1-fc25-9b9d498b685d"
      },
      "execution_count": 30,
      "outputs": [
        {
          "output_type": "stream",
          "name": "stdout",
          "text": [
            "Digite a base: 2\n",
            "Digite o expoente: 3\n",
            "2.0 elevado a 3.0 é igual a 8.0\n"
          ]
        }
      ]
    },
    {
      "cell_type": "code",
      "source": [
        "frase = input('Digite uma frase: ')\n",
        "print(frase.lower().replace('s',chr(36)))"
      ],
      "metadata": {
        "colab": {
          "base_uri": "https://localhost:8080/"
        },
        "id": "_pbYyD2WSASV",
        "outputId": "1de26fa4-2623-4a84-a50e-aaf2db8e62ea"
      },
      "execution_count": 31,
      "outputs": [
        {
          "output_type": "stream",
          "name": "stdout",
          "text": [
            "Digite uma frase: hyygygy\n",
            "hyygygy\n"
          ]
        }
      ]
    }
  ]
}