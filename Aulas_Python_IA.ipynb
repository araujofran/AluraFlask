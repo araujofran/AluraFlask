{
  "nbformat": 4,
  "nbformat_minor": 0,
  "metadata": {
    "colab": {
      "provenance": [],
      "authorship_tag": "ABX9TyMKGA9F6lCCpFAobHnllRsP",
      "include_colab_link": true
    },
    "kernelspec": {
      "name": "python3",
      "display_name": "Python 3"
    },
    "language_info": {
      "name": "python"
    }
  },
  "cells": [
    {
      "cell_type": "markdown",
      "metadata": {
        "id": "view-in-github",
        "colab_type": "text"
      },
      "source": [
        "<a href=\"https://colab.research.google.com/github/araujofran/Alura_Trilha_Inteligencia_Artifical/blob/main/Aulas_Python_IA.ipynb\" target=\"_parent\"><img src=\"https://colab.research.google.com/assets/colab-badge.svg\" alt=\"Open In Colab\"/></a>"
      ]
    },
    {
      "cell_type": "code",
      "execution_count": null,
      "metadata": {
        "colab": {
          "base_uri": "https://localhost:8080/"
        },
        "id": "8wlR44zKqReV",
        "outputId": "204d6da5-3a83-4d93-83fe-b80b3118972b"
      },
      "outputs": [
        {
          "output_type": "stream",
          "name": "stdout",
          "text": [
            "10\n"
          ]
        }
      ],
      "source": [
        "idade = 10\n",
        "print (idade)"
      ]
    },
    {
      "cell_type": "markdown",
      "source": [
        "#Retomando conceitos básicos\n",
        "\n"
      ],
      "metadata": {
        "id": "9NrBT4YuqcXp"
      }
    },
    {
      "cell_type": "code",
      "source": [
        "nome = \"Francisco\"\n",
        "\n",
        "idade = 25\n",
        "\n",
        "print (\" O estudante \" + nome  + \" tem \" +  str(idade) + \" anos...\")"
      ],
      "metadata": {
        "colab": {
          "base_uri": "https://localhost:8080/"
        },
        "id": "I8-C_YQCqs5C",
        "outputId": "7f1519e0-6421-4153-cdf5-d6312fda0fb3"
      },
      "execution_count": null,
      "outputs": [
        {
          "output_type": "stream",
          "name": "stdout",
          "text": [
            " O estudande Francisco tem 25 anos...\n"
          ]
        }
      ]
    },
    {
      "cell_type": "code",
      "source": [
        "nota1= int(input(\"Digite a nota 1: \"))\n",
        "nota2= int(input(\"Digite a nota 2: \"))\n",
        "nota3= int(input(\"Digite a nota 3: \"))\n",
        "\n",
        "media = (nota1 + nota2 + nota3) / 3\n",
        "\n",
        "print (\"A média é: \" + str(media))\n",
        "#\n",
        "\n"
      ],
      "metadata": {
        "colab": {
          "base_uri": "https://localhost:8080/"
        },
        "id": "KAGlE9ImJOGm",
        "outputId": "e9687adf-4921-4758-bfed-57ce21fe3f52"
      },
      "execution_count": 3,
      "outputs": [
        {
          "output_type": "stream",
          "name": "stdout",
          "text": [
            "Digite a nota 1: 25\n",
            "Digite a nota 2: 35\n",
            "Digite a nota 3: 48\n",
            "A média é: 36.0\n"
          ]
        }
      ]
    }
  ]
}